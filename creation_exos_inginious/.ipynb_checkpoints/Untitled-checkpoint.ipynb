{
 "cells": [
  {
   "cell_type": "code",
   "execution_count": 1,
   "metadata": {},
   "outputs": [],
   "source": [
    "from utils import *\n",
    "from objets_2 import *\n",
    "from load_data import *\n",
    "import os\n",
    "\n",
    "def build_qcm(filename, filename_dest=None, one_file_per_question=False, with_multiple_choice=True, with_choice_comment=True, to_txt=False):\n",
    "    if os.path.isdir(filename):\n",
    "        for file in os.listdir(filename):\n",
    "            build_qcm(filename+\"/\"+file, filename_dest, one_file_per_question, with_multiple_choice, with_choice_comment, to_txt)\n",
    "        return True\n",
    "    elif \".rst\" in filename:\n",
    "        texte = get_texte_from_file(filename)\n",
    "        nom = get_qcm_name_from_rst(texte)\n",
    "        contexte = get_qcm_context_from_rst(texte)\n",
    "        questions = get_questions_from_rst(texte)\n",
    "    else:\n",
    "        return False\n",
    "    qcm = QCM(name=nom, context=contexte)\n",
    "    if not one_file_per_question:\n",
    "        for qst in questions:\n",
    "            qcm.append_question(qst)\n",
    "        mode = 'a'\n",
    "        if filename_dest is None:\n",
    "            mode = 'w'\n",
    "            filename_dest = filename.split(\"/\")\n",
    "            filename_dest[-1] = \"_\" + filename_dest[-1].split(\".\")[0]\n",
    "            if to_txt:\n",
    "                filename_dest[-1] += \".txt\"\n",
    "            else:\n",
    "                filename_dest[-1] += \".yaml\"\n",
    "            filename_dest = \"/\".join(filename_dest)\n",
    "        if not to_txt:\n",
    "            qcm.save(filename_dest, mode)\n",
    "        else:\n",
    "            qcm.saveTxt(filename_dest, mode, with_multiple_choice=with_multiple_choice, with_choice_comment=with_choice_comment)\n",
    "        print('QCM : \"{}\" (de {}) correctement créé dans {} !'.format(nom, filename, filename_dest))\n",
    "    else:\n",
    "        for qst in questions:\n",
    "            qcm.clear_question()\n",
    "            qcm.append_question(qst)\n",
    "            filename_dest = filename.split(\"/\")\n",
    "            filename_dest[-1] = \"_\" + filename_dest[-1].split(\".\")[0] + \"_\" + qst.nom \n",
    "            if to_txt:\n",
    "                filename_dest[-1] += \".txt\"\n",
    "            else:\n",
    "                filename_dest[-1] += \".yaml\"\n",
    "            filename_dest = \"/\".join(filename_dest)\n",
    "            if not to_txt:\n",
    "                qcm.save(filename_dest)\n",
    "            else:\n",
    "                qcm.saveTxt(filename_dest, with_multiple_choice=with_multiple_choice, with_choice_comment=with_choice_comment)\n",
    "            print('Question : \"{}\" (de {}) correctement créée dans {} !'.format(qst.nom, filename, filename_dest))\n",
    "    return True\n",
    "\n"
   ]
  },
  {
   "cell_type": "code",
   "execution_count": 2,
   "metadata": {},
   "outputs": [
    {
     "name": "stdout",
     "output_type": "stream",
     "text": [
      "QCM : \"app\" (de mcq-ex_bac3/mcq-app.rst) correctement créé dans mcq-ex_bac3/_mcq-app.yaml !\n",
      "Balise non reconnue (son contenu ne sera pas ajouté au document) : .. tikz::\n",
      "QCM : \"mcqbgp\" (de mcq-ex_bac3/mcq-bgp.rst) correctement créé dans mcq-ex_bac3/_mcq-bgp.yaml !\n",
      "QCM : \"icwnd\" (de mcq-ex_bac3/mcq-congestion.rst) correctement créé dans mcq-ex_bac3/_mcq-congestion.yaml !\n",
      "Balise non reconnue (son contenu ne sera pas ajouté au document) : .. figure::\n",
      "QCM : \"mcqipv6bis\" (de mcq-ex_bac3/mcq-ipv6.rst) correctement créé dans mcq-ex_bac3/_mcq-ipv6.yaml !\n",
      "QCM : \"networkftable\" (de mcq-ex_bac3/mcq-network-ftable.rst) correctement créé dans mcq-ex_bac3/_mcq-network-ftable.yaml !\n",
      "QCM : \"networkpftable\" (de mcq-ex_bac3/mcq-network-pftables.rst) correctement créé dans mcq-ex_bac3/_mcq-network-pftables.yaml !\n",
      "QCM : \"networkshortest \" (de mcq-ex_bac3/mcq-network-shortest.rst) correctement créé dans mcq-ex_bac3/_mcq-network-shortest.yaml !\n",
      "QCM : \"networkvc\" (de mcq-ex_bac3/mcq-network-vc.rst) correctement créé dans mcq-ex_bac3/_mcq-network-vc.yaml !\n",
      "QCM : \"networkrouting\" (de mcq-ex_bac3/mcq-network.rst) correctement créé dans mcq-ex_bac3/_mcq-network.yaml !\n",
      "Balise non reconnue (son contenu ne sera pas ajouté au document) : .. msc::\n",
      "QCM : \"reliable\" (de mcq-ex_bac3/mcq-reliability.rst) correctement créé dans mcq-ex_bac3/_mcq-reliability.yaml !\n",
      "QCM : \"sharing\" (de mcq-ex_bac3/mcq-sharing.rst) correctement créé dans mcq-ex_bac3/_mcq-sharing.yaml !\n",
      "QCM : \"reliable\" (de mcq-ex_bac3/mcq-tcp.rst) correctement créé dans mcq-ex_bac3/_mcq-tcp.yaml !\n",
      "QCM : \"spanningtree\" (de mcq-ex_bac3/network-stp.rst) correctement créé dans mcq-ex_bac3/_network-stp.yaml !\n",
      "True\n"
     ]
    }
   ],
   "source": [
    "result = build_qcm(\"mcq-ex_bac3\", \n",
    "                          filename_dest=None, \n",
    "                one_file_per_question=False, \n",
    "                to_txt=False,\n",
    "                with_choice_comment=True,\n",
    "                with_multiple_choice=True)\n",
    "print(result)"
   ]
  },
  {
   "cell_type": "code",
   "execution_count": null,
   "metadata": {},
   "outputs": [],
   "source": [
    "print(qcm)"
   ]
  },
  {
   "cell_type": "code",
   "execution_count": null,
   "metadata": {},
   "outputs": [],
   "source": []
  }
 ],
 "metadata": {
  "kernelspec": {
   "display_name": "Python 3",
   "language": "python",
   "name": "python3"
  },
  "language_info": {
   "codemirror_mode": {
    "name": "ipython",
    "version": 3
   },
   "file_extension": ".py",
   "mimetype": "text/x-python",
   "name": "python",
   "nbconvert_exporter": "python",
   "pygments_lexer": "ipython3",
   "version": "3.6.5"
  }
 },
 "nbformat": 4,
 "nbformat_minor": 2
}
